{
 "cells": [
  {
   "cell_type": "code",
   "execution_count": 2,
   "metadata": {},
   "outputs": [],
   "source": [
    "import pandas as pd"
   ]
  },
  {
   "cell_type": "code",
   "execution_count": 78,
   "metadata": {},
   "outputs": [],
   "source": [
    "df_predictions = pd.DataFrame({'start': [8, 17, 45, 56], 'end': [15, 25, 48, 61], 'type': ['PERSON', 'PERSON', 'DATE', 'DATE']})\n",
    "df_targets = pd.DataFrame({'start': [10, 17, 45, 56, 80], 'end': [20, 25, 48, 61, 94], 'type': ['PERSON', 'PERSON', 'DATE', 'DATE', 'PERSON']})"
   ]
  },
  {
   "cell_type": "code",
   "execution_count": 79,
   "metadata": {},
   "outputs": [
    {
     "data": {
      "text/html": [
       "<div>\n",
       "<style scoped>\n",
       "    .dataframe tbody tr th:only-of-type {\n",
       "        vertical-align: middle;\n",
       "    }\n",
       "\n",
       "    .dataframe tbody tr th {\n",
       "        vertical-align: top;\n",
       "    }\n",
       "\n",
       "    .dataframe thead th {\n",
       "        text-align: right;\n",
       "    }\n",
       "</style>\n",
       "<table border=\"1\" class=\"dataframe\">\n",
       "  <thead>\n",
       "    <tr style=\"text-align: right;\">\n",
       "      <th></th>\n",
       "      <th>start</th>\n",
       "      <th>end</th>\n",
       "      <th>type</th>\n",
       "    </tr>\n",
       "  </thead>\n",
       "  <tbody>\n",
       "    <tr>\n",
       "      <th>0</th>\n",
       "      <td>8</td>\n",
       "      <td>15</td>\n",
       "      <td>PERSON</td>\n",
       "    </tr>\n",
       "    <tr>\n",
       "      <th>1</th>\n",
       "      <td>17</td>\n",
       "      <td>25</td>\n",
       "      <td>PERSON</td>\n",
       "    </tr>\n",
       "    <tr>\n",
       "      <th>2</th>\n",
       "      <td>45</td>\n",
       "      <td>48</td>\n",
       "      <td>DATE</td>\n",
       "    </tr>\n",
       "    <tr>\n",
       "      <th>3</th>\n",
       "      <td>56</td>\n",
       "      <td>61</td>\n",
       "      <td>DATE</td>\n",
       "    </tr>\n",
       "  </tbody>\n",
       "</table>\n",
       "</div>"
      ],
      "text/plain": [
       "   start  end    type\n",
       "0      8   15  PERSON\n",
       "1     17   25  PERSON\n",
       "2     45   48    DATE\n",
       "3     56   61    DATE"
      ]
     },
     "execution_count": 79,
     "metadata": {},
     "output_type": "execute_result"
    }
   ],
   "source": [
    "df_predictions"
   ]
  },
  {
   "cell_type": "code",
   "execution_count": 80,
   "metadata": {},
   "outputs": [
    {
     "data": {
      "text/html": [
       "<div>\n",
       "<style scoped>\n",
       "    .dataframe tbody tr th:only-of-type {\n",
       "        vertical-align: middle;\n",
       "    }\n",
       "\n",
       "    .dataframe tbody tr th {\n",
       "        vertical-align: top;\n",
       "    }\n",
       "\n",
       "    .dataframe thead th {\n",
       "        text-align: right;\n",
       "    }\n",
       "</style>\n",
       "<table border=\"1\" class=\"dataframe\">\n",
       "  <thead>\n",
       "    <tr style=\"text-align: right;\">\n",
       "      <th></th>\n",
       "      <th>start</th>\n",
       "      <th>end</th>\n",
       "      <th>type</th>\n",
       "    </tr>\n",
       "  </thead>\n",
       "  <tbody>\n",
       "    <tr>\n",
       "      <th>0</th>\n",
       "      <td>10</td>\n",
       "      <td>20</td>\n",
       "      <td>PERSON</td>\n",
       "    </tr>\n",
       "    <tr>\n",
       "      <th>1</th>\n",
       "      <td>17</td>\n",
       "      <td>25</td>\n",
       "      <td>PERSON</td>\n",
       "    </tr>\n",
       "    <tr>\n",
       "      <th>2</th>\n",
       "      <td>45</td>\n",
       "      <td>48</td>\n",
       "      <td>DATE</td>\n",
       "    </tr>\n",
       "    <tr>\n",
       "      <th>3</th>\n",
       "      <td>56</td>\n",
       "      <td>61</td>\n",
       "      <td>DATE</td>\n",
       "    </tr>\n",
       "    <tr>\n",
       "      <th>4</th>\n",
       "      <td>80</td>\n",
       "      <td>94</td>\n",
       "      <td>PERSON</td>\n",
       "    </tr>\n",
       "  </tbody>\n",
       "</table>\n",
       "</div>"
      ],
      "text/plain": [
       "   start  end    type\n",
       "0     10   20  PERSON\n",
       "1     17   25  PERSON\n",
       "2     45   48    DATE\n",
       "3     56   61    DATE\n",
       "4     80   94  PERSON"
      ]
     },
     "execution_count": 80,
     "metadata": {},
     "output_type": "execute_result"
    }
   ],
   "source": [
    "df_targets"
   ]
  },
  {
   "cell_type": "code",
   "execution_count": 81,
   "metadata": {},
   "outputs": [],
   "source": []
  },
  {
   "cell_type": "code",
   "execution_count": 82,
   "metadata": {},
   "outputs": [
    {
     "data": {
      "text/html": [
       "<div>\n",
       "<style scoped>\n",
       "    .dataframe tbody tr th:only-of-type {\n",
       "        vertical-align: middle;\n",
       "    }\n",
       "\n",
       "    .dataframe tbody tr th {\n",
       "        vertical-align: top;\n",
       "    }\n",
       "\n",
       "    .dataframe thead th {\n",
       "        text-align: right;\n",
       "    }\n",
       "</style>\n",
       "<table border=\"1\" class=\"dataframe\">\n",
       "  <thead>\n",
       "    <tr style=\"text-align: right;\">\n",
       "      <th></th>\n",
       "      <th>start</th>\n",
       "      <th>end</th>\n",
       "      <th>type</th>\n",
       "      <th>strict_pos</th>\n",
       "    </tr>\n",
       "  </thead>\n",
       "  <tbody>\n",
       "    <tr>\n",
       "      <th>0</th>\n",
       "      <td>8</td>\n",
       "      <td>15</td>\n",
       "      <td>PERSON</td>\n",
       "      <td>8-15</td>\n",
       "    </tr>\n",
       "    <tr>\n",
       "      <th>1</th>\n",
       "      <td>17</td>\n",
       "      <td>25</td>\n",
       "      <td>PERSON</td>\n",
       "      <td>17-25</td>\n",
       "    </tr>\n",
       "    <tr>\n",
       "      <th>2</th>\n",
       "      <td>45</td>\n",
       "      <td>48</td>\n",
       "      <td>DATE</td>\n",
       "      <td>45-48</td>\n",
       "    </tr>\n",
       "    <tr>\n",
       "      <th>3</th>\n",
       "      <td>56</td>\n",
       "      <td>61</td>\n",
       "      <td>DATE</td>\n",
       "      <td>56-61</td>\n",
       "    </tr>\n",
       "  </tbody>\n",
       "</table>\n",
       "</div>"
      ],
      "text/plain": [
       "   start  end    type strict_pos\n",
       "0      8   15  PERSON       8-15\n",
       "1     17   25  PERSON      17-25\n",
       "2     45   48    DATE      45-48\n",
       "3     56   61    DATE      56-61"
      ]
     },
     "execution_count": 82,
     "metadata": {},
     "output_type": "execute_result"
    }
   ],
   "source": [
    "df_predictions"
   ]
  },
  {
   "cell_type": "code",
   "execution_count": 83,
   "metadata": {},
   "outputs": [
    {
     "data": {
      "text/plain": [
       "0     8-15\n",
       "1    17-25\n",
       "2    45-48\n",
       "3    56-61\n",
       "Name: strict_pos, dtype: object"
      ]
     },
     "execution_count": 83,
     "metadata": {},
     "output_type": "execute_result"
    }
   ],
   "source": [
    "df_predictions.strict_pos"
   ]
  },
  {
   "cell_type": "code",
   "execution_count": 84,
   "metadata": {},
   "outputs": [
    {
     "data": {
      "text/html": [
       "<div>\n",
       "<style scoped>\n",
       "    .dataframe tbody tr th:only-of-type {\n",
       "        vertical-align: middle;\n",
       "    }\n",
       "\n",
       "    .dataframe tbody tr th {\n",
       "        vertical-align: top;\n",
       "    }\n",
       "\n",
       "    .dataframe thead th {\n",
       "        text-align: right;\n",
       "    }\n",
       "</style>\n",
       "<table border=\"1\" class=\"dataframe\">\n",
       "  <thead>\n",
       "    <tr style=\"text-align: right;\">\n",
       "      <th></th>\n",
       "      <th>start</th>\n",
       "      <th>end</th>\n",
       "      <th>type</th>\n",
       "      <th>strict_pos</th>\n",
       "    </tr>\n",
       "  </thead>\n",
       "  <tbody>\n",
       "    <tr>\n",
       "      <th>0</th>\n",
       "      <td>10</td>\n",
       "      <td>20</td>\n",
       "      <td>PERSON</td>\n",
       "      <td>10-20</td>\n",
       "    </tr>\n",
       "    <tr>\n",
       "      <th>1</th>\n",
       "      <td>17</td>\n",
       "      <td>25</td>\n",
       "      <td>PERSON</td>\n",
       "      <td>17-25</td>\n",
       "    </tr>\n",
       "    <tr>\n",
       "      <th>2</th>\n",
       "      <td>45</td>\n",
       "      <td>48</td>\n",
       "      <td>DATE</td>\n",
       "      <td>45-48</td>\n",
       "    </tr>\n",
       "    <tr>\n",
       "      <th>3</th>\n",
       "      <td>56</td>\n",
       "      <td>61</td>\n",
       "      <td>DATE</td>\n",
       "      <td>56-61</td>\n",
       "    </tr>\n",
       "    <tr>\n",
       "      <th>4</th>\n",
       "      <td>80</td>\n",
       "      <td>94</td>\n",
       "      <td>PERSON</td>\n",
       "      <td>80-94</td>\n",
       "    </tr>\n",
       "  </tbody>\n",
       "</table>\n",
       "</div>"
      ],
      "text/plain": [
       "   start  end    type strict_pos\n",
       "0     10   20  PERSON      10-20\n",
       "1     17   25  PERSON      17-25\n",
       "2     45   48    DATE      45-48\n",
       "3     56   61    DATE      56-61\n",
       "4     80   94  PERSON      80-94"
      ]
     },
     "execution_count": 84,
     "metadata": {},
     "output_type": "execute_result"
    }
   ],
   "source": [
    "df_targets"
   ]
  },
  {
   "cell_type": "code",
   "execution_count": 85,
   "metadata": {},
   "outputs": [
    {
     "data": {
      "text/plain": [
       "0    10-20\n",
       "1    17-25\n",
       "2    45-48\n",
       "3    56-61\n",
       "4    80-94\n",
       "Name: strict_pos, dtype: object"
      ]
     },
     "execution_count": 85,
     "metadata": {},
     "output_type": "execute_result"
    }
   ],
   "source": [
    "df_targets.strict_pos"
   ]
  },
  {
   "cell_type": "code",
   "execution_count": 86,
   "metadata": {},
   "outputs": [],
   "source": [
    "def compute_scores(predictions, targets, confusion_only=False):\n",
    "    tp = 0\n",
    "    fp = 0\n",
    "    fn = 0\n",
    "    targets = targets.copy()\n",
    "    for prediction in predictions:\n",
    "        if prediction in targets:\n",
    "            tp += 1\n",
    "            targets.remove(prediction)\n",
    "        else:\n",
    "            fp += 1\n",
    "    fn += len(targets)\n",
    "    \n",
    "    precision = tp / (tp + fp) if tp + fp > 0 else 0\n",
    "    recall = tp / (tp + fn) if tp + fn > 0 else 0\n",
    "    f1 = 2 * (precision * recall) / (precision + recall) if precision + recall > 0 else 0\n",
    "    if confusion_only:\n",
    "        return tp, fp, fn\n",
    "    else:\n",
    "        return {'precision': precision, 'recall': recall, 'f1': f1}"
   ]
  },
  {
   "cell_type": "code",
   "execution_count": 87,
   "metadata": {},
   "outputs": [
    {
     "data": {
      "text/plain": [
       "{'precision': 0.75, 'recall': 0.6, 'f1': 0.6666666666666665}"
      ]
     },
     "execution_count": 87,
     "metadata": {},
     "output_type": "execute_result"
    }
   ],
   "source": [
    "compute_scores(df_predictions.strict_pos.to_list(), df_targets.strict_pos.to_list())"
   ]
  },
  {
   "cell_type": "code",
   "execution_count": 90,
   "metadata": {},
   "outputs": [
    {
     "name": "stdout",
     "output_type": "stream",
     "text": [
      "PERSON\n",
      "DATE\n"
     ]
    }
   ],
   "source": [
    "for tipo in df_targets.type.unique():\n",
    "    print(tipo)"
   ]
  },
  {
   "cell_type": "code",
   "execution_count": 119,
   "metadata": {},
   "outputs": [],
   "source": [
    "def compute_scores_document(df_predictions, df_targets):\n",
    "    # strict calculation\n",
    "    df_predictions['strict_pos'] = df_predictions.start.astype(str) + '-' + df_predictions.end.astype(str)\n",
    "    df_targets['strict_pos'] = df_targets.start.astype(str) + '-' + df_targets.end.astype(str)\n",
    "\n",
    "    strict_scores_dict = {}\n",
    "    for entity_type in df_targets.type.unique():\n",
    "        strict_scores_dict[entity_type] = compute_scores(df_predictions.loc[df_predictions.type == entity_type,'strict_pos'].to_list(), df_targets.loc[df_targets.type == entity_type, 'strict_pos'].to_list())\n",
    "\n",
    "    # lenient calculation\n",
    "    def overlap(a, b):\n",
    "        if max(0, min(a[1], b[1]) - max(a[0], b[0])) != 0:\n",
    "            return True\n",
    "        else:\n",
    "            return False\n",
    "\n",
    "    lenient_scores_dict = {}\n",
    "    for entity_type in df_targets.type.unique():\n",
    "        prediction_lenient_match = []\n",
    "        for pred_index, prediction in df_predictions.loc[df_predictions.type == entity_type].iterrows():\n",
    "            for target_index, target in df_targets.loc[df_targets.type == entity_type].iterrows():\n",
    "                prediction_pos = [prediction['start'], prediction['end']]\n",
    "                target_pos = [target['start'], target['end']]\n",
    "                if overlap(prediction_pos, target_pos):\n",
    "                    prediction_lenient_match.append(target_index)\n",
    "        prediction_lenient_match = list(set(prediction_lenient_match))\n",
    "        lenient_scores_dict[entity_type] = compute_scores(prediction_lenient_match, df_targets.index.to_list())\n",
    "\n",
    "    return {'strict': strict_scores_dict, 'lenient': lenient_scores_dict}"
   ]
  },
  {
   "cell_type": "code",
   "execution_count": 120,
   "metadata": {},
   "outputs": [
    {
     "data": {
      "text/plain": [
       "{'strict': {'PERSON': {'precision': 0.5,\n",
       "   'recall': 0.3333333333333333,\n",
       "   'f1': 0.4},\n",
       "  'DATE': {'precision': 1.0, 'recall': 1.0, 'f1': 1.0}},\n",
       " 'lenient': {'PERSON': {'precision': 1.0,\n",
       "   'recall': 0.4,\n",
       "   'f1': 0.5714285714285715},\n",
       "  'DATE': {'precision': 1.0, 'recall': 0.4, 'f1': 0.5714285714285715}}}"
      ]
     },
     "execution_count": 120,
     "metadata": {},
     "output_type": "execute_result"
    }
   ],
   "source": [
    "compute_scores_document(df_predictions, df_targets)"
   ]
  },
  {
   "cell_type": "code",
   "execution_count": 121,
   "metadata": {},
   "outputs": [],
   "source": [
    "df_targets.reset_index(inplace=True)"
   ]
  },
  {
   "cell_type": "code",
   "execution_count": 98,
   "metadata": {},
   "outputs": [],
   "source": [
    "df_targets['lenient_match'] = df_targets.apply(lambda row: 'match' + row['index'], axis=1)\n"
   ]
  },
  {
   "cell_type": "code",
   "execution_count": 111,
   "metadata": {},
   "outputs": [],
   "source": [
    "def overlap(a, b):\n",
    "    if max(0, min(a[1], b[1]) - max(a[0], b[0])) != 0:\n",
    "        return True\n",
    "    else:\n",
    "        return False"
   ]
  },
  {
   "cell_type": "code",
   "execution_count": 112,
   "metadata": {},
   "outputs": [],
   "source": [
    "prediction_lenient_match = []\n",
    "for pred_index, prediction in df_predictions.iterrows():\n",
    "    for target_index, target in df_targets.iterrows():\n",
    "        prediction_pos = [prediction['start'], prediction['end']]\n",
    "        target_pos = [target['start'], target['end']]\n",
    "        if overlap(prediction_pos, target_pos):\n",
    "            prediction_lenient_match.append(target_index)\n"
   ]
  },
  {
   "cell_type": "code",
   "execution_count": 114,
   "metadata": {},
   "outputs": [
    {
     "data": {
      "text/plain": [
       "[0, 1, 2, 3]"
      ]
     },
     "execution_count": 114,
     "metadata": {},
     "output_type": "execute_result"
    }
   ],
   "source": [
    "list(set(prediction_lenient_match))"
   ]
  },
  {
   "cell_type": "code",
   "execution_count": null,
   "metadata": {},
   "outputs": [],
   "source": []
  }
 ],
 "metadata": {
  "kernelspec": {
   "display_name": "data-science",
   "language": "python",
   "name": "python3"
  },
  "language_info": {
   "codemirror_mode": {
    "name": "ipython",
    "version": 3
   },
   "file_extension": ".py",
   "mimetype": "text/x-python",
   "name": "python",
   "nbconvert_exporter": "python",
   "pygments_lexer": "ipython3",
   "version": "3.9.13"
  },
  "orig_nbformat": 4,
  "vscode": {
   "interpreter": {
    "hash": "26c8bdbe31834a40f2a8226bd546da05153f867c7a040f6e2a8da32e5849e79d"
   }
  }
 },
 "nbformat": 4,
 "nbformat_minor": 2
}
